{
 "cells": [
  {
   "cell_type": "code",
   "execution_count": 1,
   "id": "49c0cce5",
   "metadata": {},
   "outputs": [],
   "source": [
    "records = {1001: {'name': 'Cake', 'Qn': 34, 'pr': 230},\n",
    "           1002: {'name': 'Chocolate', 'Qn': 400, 'pr': 15}, \n",
    "           1003 : {'name': 'Pen', 'Qn': 60, 'pr': 20} ,\n",
    "           1004: {'name': 'LongBook', 'Qn': 80, 'pr': 56},\n",
    "           1005: {'name': 'Pencil', 'Qn': 50, 'pr': 5},\n",
    "           1006: {'name': 'DrawingBok', 'Qn': 40, 'pr': 150},\n",
    "           1007: {'name': 'Soap', 'Qn': 70, 'pr': 75},\n",
    "           1008: {'name': 'WashingPowder', 'Qn': 50, 'pr': 100},\n",
    "           1009: {'name': 'Snacks', 'Qn': 700, 'pr': 20},\n",
    "           1010: {'name': 'NoteBook', 'Qn': 85, 'pr': 98},\n",
    "           1011: {'name': 'Handwash', 'Qn': 300, 'pr': 72},\n",
    "           1012: {'name': 'Sanitizer', 'Qn': 400, 'pr': 23},\n",
    "           1013: {'name': 'Stapler', 'Qn': 124, 'pr': 155},\n",
    "           1014: {'name': 'Eraser', 'Qn': 180, 'pr': 5},\n",
    "           1015: {'name': 'ChocolateCake', 'Qn': 300, 'pr': 120},\n",
    "           1016: {'name': 'Whitener', 'Qn': 55, 'pr': 100},\n",
    "           1017: {'name': 'ruler', 'Qn': 33, 'pr': 45},\n",
    "           1018: {'name': 'PaperClip', 'Qn': 34, 'pr': 120},\n",
    "           1019: {'name': 'Tape', 'Qn': 34, 'pr': 20},\n",
    "           1020: {'name': 'SchoolBage', 'Qn': 15, 'pr': 630},\n",
    "           1021: {'name': 'PencilSharpner', 'Qn': 84, 'pr': 10},\n",
    "           1022: {'name': 'HighlighterPen', 'Qn': 100, 'pr': 60},\n",
    "           1023: {'name': '', 'Qn': 34, 'pr': 230},\n",
    "           1024: {'name': 'Calculator', 'Qn': 30, 'pr': 990},\n",
    "           1025: {'name': 'Scissor', 'Qn': 20, 'pr': 50},\n",
    "           1026: {'name': 'Envelope', 'Qn': 24, 'pr': 30},\n",
    "           1027: {'name': 'CLipBoard', 'Qn': 12, 'pr': 178},\n",
    "           1028: {'name': 'Paperclips', 'Qn': 400, 'pr': 20},\n",
    "           1029: {'name': 'Diary', 'Qn': 24, 'pr': 200},\n",
    "           1030: {'name': 'Bin', 'Qn': 15, 'pr': 60}}"
   ]
  },
  {
   "cell_type": "code",
   "execution_count": 2,
   "id": "3407ba21",
   "metadata": {},
   "outputs": [
    {
     "data": {
      "text/plain": [
       "{1001: {'name': 'Cake', 'Qn': 34, 'pr': 230},\n",
       " 1002: {'name': 'Chocolate', 'Qn': 400, 'pr': 15},\n",
       " 1003: {'name': 'Pen', 'Qn': 60, 'pr': 20},\n",
       " 1004: {'name': 'LongBook', 'Qn': 80, 'pr': 56},\n",
       " 1005: {'name': 'Pencil', 'Qn': 50, 'pr': 5},\n",
       " 1006: {'name': 'DrawingBok', 'Qn': 40, 'pr': 150},\n",
       " 1007: {'name': 'Soap', 'Qn': 70, 'pr': 75},\n",
       " 1008: {'name': 'WashingPowder', 'Qn': 50, 'pr': 100},\n",
       " 1009: {'name': 'Snacks', 'Qn': 700, 'pr': 20},\n",
       " 1010: {'name': 'NoteBook', 'Qn': 85, 'pr': 98},\n",
       " 1011: {'name': 'Handwash', 'Qn': 300, 'pr': 72},\n",
       " 1012: {'name': 'Sanitizer', 'Qn': 400, 'pr': 23},\n",
       " 1013: {'name': 'Stapler', 'Qn': 124, 'pr': 155},\n",
       " 1014: {'name': 'Eraser', 'Qn': 180, 'pr': 5},\n",
       " 1015: {'name': 'ChocolateCake', 'Qn': 300, 'pr': 120},\n",
       " 1016: {'name': 'Whitener', 'Qn': 55, 'pr': 100},\n",
       " 1017: {'name': 'ruler', 'Qn': 33, 'pr': 45},\n",
       " 1018: {'name': 'PaperClip', 'Qn': 34, 'pr': 120},\n",
       " 1019: {'name': 'Tape', 'Qn': 34, 'pr': 20},\n",
       " 1020: {'name': 'SchoolBage', 'Qn': 15, 'pr': 630},\n",
       " 1021: {'name': 'PencilSharpner', 'Qn': 84, 'pr': 10},\n",
       " 1022: {'name': 'HighlighterPen', 'Qn': 100, 'pr': 60},\n",
       " 1023: {'name': '', 'Qn': 34, 'pr': 230},\n",
       " 1024: {'name': 'Calculator', 'Qn': 30, 'pr': 990},\n",
       " 1025: {'name': 'Scissor', 'Qn': 20, 'pr': 50},\n",
       " 1026: {'name': 'Envelope', 'Qn': 24, 'pr': 30},\n",
       " 1027: {'name': 'CLipBoard', 'Qn': 12, 'pr': 178},\n",
       " 1028: {'name': 'Paperclips', 'Qn': 400, 'pr': 20},\n",
       " 1029: {'name': 'Diary', 'Qn': 24, 'pr': 200},\n",
       " 1030: {'name': 'Bin', 'Qn': 15, 'pr': 60}}"
      ]
     },
     "execution_count": 2,
     "metadata": {},
     "output_type": "execute_result"
    }
   ],
   "source": [
    "records"
   ]
  },
  {
   "cell_type": "code",
   "execution_count": 3,
   "id": "ab00bae6",
   "metadata": {},
   "outputs": [],
   "source": [
    "import json\n",
    "js =json.dumps(records)"
   ]
  },
  {
   "cell_type": "code",
   "execution_count": 4,
   "id": "e559ab72",
   "metadata": {},
   "outputs": [],
   "source": [
    "fd = open(\"records.json\",'w')\n",
    "fd.write(js)\n",
    "fd.close()"
   ]
  },
  {
   "cell_type": "markdown",
   "id": "108e8e66",
   "metadata": {},
   "source": [
    "# Converting Json File into Dict"
   ]
  },
  {
   "cell_type": "code",
   "execution_count": 5,
   "id": "22349a8b",
   "metadata": {},
   "outputs": [],
   "source": [
    "#converting a json file into dictionary for adding items in dectionary\n",
    "#records = json.loads(r)"
   ]
  },
  {
   "cell_type": "code",
   "execution_count": 6,
   "id": "b5bbc3ff",
   "metadata": {},
   "outputs": [],
   "source": [
    "fd = open(\"records.json\",'r')\n",
    "r = fd.read()\n",
    "fd.close()"
   ]
  },
  {
   "cell_type": "code",
   "execution_count": 7,
   "id": "2a8ff965",
   "metadata": {},
   "outputs": [
    {
     "data": {
      "text/plain": [
       "{1001: {'name': 'Cake', 'Qn': 34, 'pr': 230},\n",
       " 1002: {'name': 'Chocolate', 'Qn': 400, 'pr': 15},\n",
       " 1003: {'name': 'Pen', 'Qn': 60, 'pr': 20},\n",
       " 1004: {'name': 'LongBook', 'Qn': 80, 'pr': 56},\n",
       " 1005: {'name': 'Pencil', 'Qn': 50, 'pr': 5},\n",
       " 1006: {'name': 'DrawingBok', 'Qn': 40, 'pr': 150},\n",
       " 1007: {'name': 'Soap', 'Qn': 70, 'pr': 75},\n",
       " 1008: {'name': 'WashingPowder', 'Qn': 50, 'pr': 100},\n",
       " 1009: {'name': 'Snacks', 'Qn': 700, 'pr': 20},\n",
       " 1010: {'name': 'NoteBook', 'Qn': 85, 'pr': 98},\n",
       " 1011: {'name': 'Handwash', 'Qn': 300, 'pr': 72},\n",
       " 1012: {'name': 'Sanitizer', 'Qn': 400, 'pr': 23},\n",
       " 1013: {'name': 'Stapler', 'Qn': 124, 'pr': 155},\n",
       " 1014: {'name': 'Eraser', 'Qn': 180, 'pr': 5},\n",
       " 1015: {'name': 'ChocolateCake', 'Qn': 300, 'pr': 120},\n",
       " 1016: {'name': 'Whitener', 'Qn': 55, 'pr': 100},\n",
       " 1017: {'name': 'ruler', 'Qn': 33, 'pr': 45},\n",
       " 1018: {'name': 'PaperClip', 'Qn': 34, 'pr': 120},\n",
       " 1019: {'name': 'Tape', 'Qn': 34, 'pr': 20},\n",
       " 1020: {'name': 'SchoolBage', 'Qn': 15, 'pr': 630},\n",
       " 1021: {'name': 'PencilSharpner', 'Qn': 84, 'pr': 10},\n",
       " 1022: {'name': 'HighlighterPen', 'Qn': 100, 'pr': 60},\n",
       " 1023: {'name': '', 'Qn': 34, 'pr': 230},\n",
       " 1024: {'name': 'Calculator', 'Qn': 30, 'pr': 990},\n",
       " 1025: {'name': 'Scissor', 'Qn': 20, 'pr': 50},\n",
       " 1026: {'name': 'Envelope', 'Qn': 24, 'pr': 30},\n",
       " 1027: {'name': 'CLipBoard', 'Qn': 12, 'pr': 178},\n",
       " 1028: {'name': 'Paperclips', 'Qn': 400, 'pr': 20},\n",
       " 1029: {'name': 'Diary', 'Qn': 24, 'pr': 200},\n",
       " 1030: {'name': 'Bin', 'Qn': 15, 'pr': 60}}"
      ]
     },
     "execution_count": 7,
     "metadata": {},
     "output_type": "execute_result"
    }
   ],
   "source": [
    "records"
   ]
  },
  {
   "cell_type": "markdown",
   "id": "6f2a024d",
   "metadata": {},
   "source": [
    "# Read Data from JSON"
   ]
  },
  {
   "cell_type": "code",
   "execution_count": 8,
   "id": "da6e5416",
   "metadata": {},
   "outputs": [],
   "source": [
    "import json\n",
    "fd = open(\"records.json\",'r')\n",
    "r = fd.read()\n",
    "fd.close()\n",
    "\n",
    "records = json.loads(r)"
   ]
  },
  {
   "cell_type": "code",
   "execution_count": 9,
   "id": "de60083a",
   "metadata": {},
   "outputs": [
    {
     "data": {
      "text/plain": [
       "{'1001': {'name': 'Cake', 'Qn': 34, 'pr': 230},\n",
       " '1002': {'name': 'Chocolate', 'Qn': 400, 'pr': 15},\n",
       " '1003': {'name': 'Pen', 'Qn': 60, 'pr': 20},\n",
       " '1004': {'name': 'LongBook', 'Qn': 80, 'pr': 56},\n",
       " '1005': {'name': 'Pencil', 'Qn': 50, 'pr': 5},\n",
       " '1006': {'name': 'DrawingBok', 'Qn': 40, 'pr': 150},\n",
       " '1007': {'name': 'Soap', 'Qn': 70, 'pr': 75},\n",
       " '1008': {'name': 'WashingPowder', 'Qn': 50, 'pr': 100},\n",
       " '1009': {'name': 'Snacks', 'Qn': 700, 'pr': 20},\n",
       " '1010': {'name': 'NoteBook', 'Qn': 85, 'pr': 98},\n",
       " '1011': {'name': 'Handwash', 'Qn': 300, 'pr': 72},\n",
       " '1012': {'name': 'Sanitizer', 'Qn': 400, 'pr': 23},\n",
       " '1013': {'name': 'Stapler', 'Qn': 124, 'pr': 155},\n",
       " '1014': {'name': 'Eraser', 'Qn': 180, 'pr': 5},\n",
       " '1015': {'name': 'ChocolateCake', 'Qn': 300, 'pr': 120},\n",
       " '1016': {'name': 'Whitener', 'Qn': 55, 'pr': 100},\n",
       " '1017': {'name': 'ruler', 'Qn': 33, 'pr': 45},\n",
       " '1018': {'name': 'PaperClip', 'Qn': 34, 'pr': 120},\n",
       " '1019': {'name': 'Tape', 'Qn': 34, 'pr': 20},\n",
       " '1020': {'name': 'SchoolBage', 'Qn': 15, 'pr': 630},\n",
       " '1021': {'name': 'PencilSharpner', 'Qn': 84, 'pr': 10},\n",
       " '1022': {'name': 'HighlighterPen', 'Qn': 100, 'pr': 60},\n",
       " '1023': {'name': '', 'Qn': 34, 'pr': 230},\n",
       " '1024': {'name': 'Calculator', 'Qn': 30, 'pr': 990},\n",
       " '1025': {'name': 'Scissor', 'Qn': 20, 'pr': 50},\n",
       " '1026': {'name': 'Envelope', 'Qn': 24, 'pr': 30},\n",
       " '1027': {'name': 'CLipBoard', 'Qn': 12, 'pr': 178},\n",
       " '1028': {'name': 'Paperclips', 'Qn': 400, 'pr': 20},\n",
       " '1029': {'name': 'Diary', 'Qn': 24, 'pr': 200},\n",
       " '1030': {'name': 'Bin', 'Qn': 15, 'pr': 60}}"
      ]
     },
     "execution_count": 9,
     "metadata": {},
     "output_type": "execute_result"
    }
   ],
   "source": [
    "records"
   ]
  },
  {
   "cell_type": "markdown",
   "id": "e532709f",
   "metadata": {},
   "source": [
    "# Adding Item into Inventory"
   ]
  },
  {
   "cell_type": "code",
   "execution_count": 10,
   "id": "351f19ac",
   "metadata": {},
   "outputs": [
    {
     "name": "stdout",
     "output_type": "stream",
     "text": [
      "Enter product id:1031\n",
      "Enter name:milk\n",
      "Enter price:23\n",
      "Enter quantity:25\n"
     ]
    }
   ],
   "source": [
    "prod_id = str(input(\"Enter product id:\"))\n",
    "name = str(input(\"Enter name:\"))\n",
    "pr = int(input(\"Enter price:\"))\n",
    "qn = int(input(\"Enter quantity:\"))\n",
    "\n",
    "records[prod_id] = {'name': name, 'pr': pr, 'qn': qn}\n",
    "\n",
    "js = json.dumps(records)\n",
    "\n",
    "fd = open(\"records.json\",'w')\n",
    "fd.write(js)\n",
    "fd.close()"
   ]
  },
  {
   "cell_type": "code",
   "execution_count": 11,
   "id": "566c89fe",
   "metadata": {},
   "outputs": [
    {
     "data": {
      "text/plain": [
       "{'1001': {'name': 'Cake', 'Qn': 34, 'pr': 230},\n",
       " '1002': {'name': 'Chocolate', 'Qn': 400, 'pr': 15},\n",
       " '1003': {'name': 'Pen', 'Qn': 60, 'pr': 20},\n",
       " '1004': {'name': 'LongBook', 'Qn': 80, 'pr': 56},\n",
       " '1005': {'name': 'Pencil', 'Qn': 50, 'pr': 5},\n",
       " '1006': {'name': 'DrawingBok', 'Qn': 40, 'pr': 150},\n",
       " '1007': {'name': 'Soap', 'Qn': 70, 'pr': 75},\n",
       " '1008': {'name': 'WashingPowder', 'Qn': 50, 'pr': 100},\n",
       " '1009': {'name': 'Snacks', 'Qn': 700, 'pr': 20},\n",
       " '1010': {'name': 'NoteBook', 'Qn': 85, 'pr': 98},\n",
       " '1011': {'name': 'Handwash', 'Qn': 300, 'pr': 72},\n",
       " '1012': {'name': 'Sanitizer', 'Qn': 400, 'pr': 23},\n",
       " '1013': {'name': 'Stapler', 'Qn': 124, 'pr': 155},\n",
       " '1014': {'name': 'Eraser', 'Qn': 180, 'pr': 5},\n",
       " '1015': {'name': 'ChocolateCake', 'Qn': 300, 'pr': 120},\n",
       " '1016': {'name': 'Whitener', 'Qn': 55, 'pr': 100},\n",
       " '1017': {'name': 'ruler', 'Qn': 33, 'pr': 45},\n",
       " '1018': {'name': 'PaperClip', 'Qn': 34, 'pr': 120},\n",
       " '1019': {'name': 'Tape', 'Qn': 34, 'pr': 20},\n",
       " '1020': {'name': 'SchoolBage', 'Qn': 15, 'pr': 630},\n",
       " '1021': {'name': 'PencilSharpner', 'Qn': 84, 'pr': 10},\n",
       " '1022': {'name': 'HighlighterPen', 'Qn': 100, 'pr': 60},\n",
       " '1023': {'name': '', 'Qn': 34, 'pr': 230},\n",
       " '1024': {'name': 'Calculator', 'Qn': 30, 'pr': 990},\n",
       " '1025': {'name': 'Scissor', 'Qn': 20, 'pr': 50},\n",
       " '1026': {'name': 'Envelope', 'Qn': 24, 'pr': 30},\n",
       " '1027': {'name': 'CLipBoard', 'Qn': 12, 'pr': 178},\n",
       " '1028': {'name': 'Paperclips', 'Qn': 400, 'pr': 20},\n",
       " '1029': {'name': 'Diary', 'Qn': 24, 'pr': 200},\n",
       " '1030': {'name': 'Bin', 'Qn': 15, 'pr': 60},\n",
       " '1031': {'name': 'milk', 'pr': 23, 'qn': 25}}"
      ]
     },
     "execution_count": 11,
     "metadata": {},
     "output_type": "execute_result"
    }
   ],
   "source": [
    "records"
   ]
  },
  {
   "cell_type": "markdown",
   "id": "b06c99eb",
   "metadata": {},
   "source": [
    "# Read Inventory "
   ]
  },
  {
   "cell_type": "code",
   "execution_count": 12,
   "id": "828b37bf",
   "metadata": {},
   "outputs": [],
   "source": [
    "import json\n",
    "\n",
    "fd = open(\"records.json\",'r')\n",
    "r = fd.read()\n",
    "fd.close()\n",
    "\n",
    "records = json.loads(r)"
   ]
  },
  {
   "cell_type": "code",
   "execution_count": 13,
   "id": "65d63ce9",
   "metadata": {},
   "outputs": [
    {
     "data": {
      "text/plain": [
       "{'1001': {'name': 'Cake', 'Qn': 34, 'pr': 230},\n",
       " '1002': {'name': 'Chocolate', 'Qn': 400, 'pr': 15},\n",
       " '1003': {'name': 'Pen', 'Qn': 60, 'pr': 20},\n",
       " '1004': {'name': 'LongBook', 'Qn': 80, 'pr': 56},\n",
       " '1005': {'name': 'Pencil', 'Qn': 50, 'pr': 5},\n",
       " '1006': {'name': 'DrawingBok', 'Qn': 40, 'pr': 150},\n",
       " '1007': {'name': 'Soap', 'Qn': 70, 'pr': 75},\n",
       " '1008': {'name': 'WashingPowder', 'Qn': 50, 'pr': 100},\n",
       " '1009': {'name': 'Snacks', 'Qn': 700, 'pr': 20},\n",
       " '1010': {'name': 'NoteBook', 'Qn': 85, 'pr': 98},\n",
       " '1011': {'name': 'Handwash', 'Qn': 300, 'pr': 72},\n",
       " '1012': {'name': 'Sanitizer', 'Qn': 400, 'pr': 23},\n",
       " '1013': {'name': 'Stapler', 'Qn': 124, 'pr': 155},\n",
       " '1014': {'name': 'Eraser', 'Qn': 180, 'pr': 5},\n",
       " '1015': {'name': 'ChocolateCake', 'Qn': 300, 'pr': 120},\n",
       " '1016': {'name': 'Whitener', 'Qn': 55, 'pr': 100},\n",
       " '1017': {'name': 'ruler', 'Qn': 33, 'pr': 45},\n",
       " '1018': {'name': 'PaperClip', 'Qn': 34, 'pr': 120},\n",
       " '1019': {'name': 'Tape', 'Qn': 34, 'pr': 20},\n",
       " '1020': {'name': 'SchoolBage', 'Qn': 15, 'pr': 630},\n",
       " '1021': {'name': 'PencilSharpner', 'Qn': 84, 'pr': 10},\n",
       " '1022': {'name': 'HighlighterPen', 'Qn': 100, 'pr': 60},\n",
       " '1023': {'name': '', 'Qn': 34, 'pr': 230},\n",
       " '1024': {'name': 'Calculator', 'Qn': 30, 'pr': 990},\n",
       " '1025': {'name': 'Scissor', 'Qn': 20, 'pr': 50},\n",
       " '1026': {'name': 'Envelope', 'Qn': 24, 'pr': 30},\n",
       " '1027': {'name': 'CLipBoard', 'Qn': 12, 'pr': 178},\n",
       " '1028': {'name': 'Paperclips', 'Qn': 400, 'pr': 20},\n",
       " '1029': {'name': 'Diary', 'Qn': 24, 'pr': 200},\n",
       " '1030': {'name': 'Bin', 'Qn': 15, 'pr': 60},\n",
       " '1031': {'name': 'milk', 'pr': 23, 'qn': 25}}"
      ]
     },
     "execution_count": 13,
     "metadata": {},
     "output_type": "execute_result"
    }
   ],
   "source": [
    "records"
   ]
  },
  {
   "cell_type": "markdown",
   "id": "7f7dcd8b",
   "metadata": {},
   "source": [
    "# Purchase"
   ]
  },
  {
   "cell_type": "code",
   "execution_count": 26,
   "id": "b7fd8e20",
   "metadata": {},
   "outputs": [
    {
     "name": "stdout",
     "output_type": "stream",
     "text": [
      "Enter the product_Id: 1005\n",
      "Enter the quantity: 3\n",
      "******************Bill************************\n",
      "Product:  Pencil\n",
      "Price:  5\n",
      "********************************************\n",
      "Billing Amount:  15\n",
      "********************************************\n",
      "Done\n"
     ]
    }
   ],
   "source": [
    "ui_prod  = str(input(\"Enter the product_Id: \"))\n",
    "ui_quant = int(input(\"Enter the quantity: \"))\n",
    "\n",
    "print(\"******************Bill************************\")\n",
    "print(\"Product: \", records[ui_prod]['name'])\n",
    "print(\"Price: \", records[ui_prod]['pr'])\n",
    "print(\"********************************************\")\n",
    "print(\"Billing Amount: \", records[ui_prod]['pr'] * ui_quant)\n",
    "print(\"********************************************\")\n",
    "\n",
    "records[ui_prod]['qn'] = records[ui_prod]['Qn'] - ui_quant\n",
    "print(\"Done\")"
   ]
  },
  {
   "cell_type": "markdown",
   "id": "14ce842a",
   "metadata": {},
   "source": [
    "# Update Inventory after purchase"
   ]
  },
  {
   "cell_type": "code",
   "execution_count": 27,
   "id": "a715a38e",
   "metadata": {},
   "outputs": [],
   "source": [
    "js = json.dumps(records)\n",
    "\n",
    "fd = open(\"records.json\",'w')\n",
    "fd.write(js)\n",
    "fd.close()\n",
    "\n",
    "\n"
   ]
  },
  {
   "cell_type": "markdown",
   "id": "ade56501",
   "metadata": {},
   "source": [
    "\n",
    "\n",
    "\n",
    "# Update Sales JSON"
   ]
  },
  {
   "cell_type": "code",
   "execution_count": 31,
   "id": "78f194ef",
   "metadata": {},
   "outputs": [],
   "source": [
    "sales = {1 : {'prod' : ui_prod, 'qn' : ui_quant, 'amount': records[ui_prod]['pr'] * ui_quant}}\n",
    "         \n",
    "         "
   ]
  },
  {
   "cell_type": "code",
   "execution_count": 32,
   "id": "855d7d55",
   "metadata": {},
   "outputs": [],
   "source": [
    "sale = json.dumps(sales)"
   ]
  },
  {
   "cell_type": "code",
   "execution_count": 30,
   "id": "fdd15c21",
   "metadata": {},
   "outputs": [],
   "source": [
    "fd = open(\"sale.json\",'w')\n",
    "fd.write(sale)\n",
    "fd.close()"
   ]
  },
  {
   "cell_type": "code",
   "execution_count": null,
   "id": "f2793b01",
   "metadata": {},
   "outputs": [],
   "source": []
  },
  {
   "cell_type": "code",
   "execution_count": null,
   "id": "507410d6",
   "metadata": {},
   "outputs": [],
   "source": []
  }
 ],
 "metadata": {
  "kernelspec": {
   "display_name": "Python 3",
   "language": "python",
   "name": "python3"
  },
  "language_info": {
   "codemirror_mode": {
    "name": "ipython",
    "version": 3
   },
   "file_extension": ".py",
   "mimetype": "text/x-python",
   "name": "python",
   "nbconvert_exporter": "python",
   "pygments_lexer": "ipython3",
   "version": "3.8.8"
  }
 },
 "nbformat": 4,
 "nbformat_minor": 5
}
