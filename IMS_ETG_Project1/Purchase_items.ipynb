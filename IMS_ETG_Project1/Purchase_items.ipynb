{
 "cells": [
  {
   "cell_type": "code",
   "execution_count": 15,
   "id": "8428bd9d",
   "metadata": {},
   "outputs": [
    {
     "name": "stdout",
     "output_type": "stream",
     "text": [
      "Done\n"
     ]
    }
   ],
   "source": [
    "import json\n",
    "\n",
    "fd = open(\"records.json\",'r')\n",
    "r = fd.read()\n",
    "fd.close()\n",
    "\n",
    "records = json.loads(r)\n",
    "print(\"Done\")"
   ]
  },
  {
   "cell_type": "code",
   "execution_count": 8,
   "id": "195982ef",
   "metadata": {},
   "outputs": [
    {
     "name": "stdout",
     "output_type": "stream",
     "text": [
      "********************MENU********************\n",
      "{'name': 'Cake', 'Qn': 34, 'pr': 230}\n",
      "{'name': 'Chocolate', 'Qn': 400, 'pr': 15, 'qn': 398}\n",
      "{'name': 'Pen', 'Qn': 60, 'pr': 20}\n",
      "{'name': 'LongBook', 'Qn': 80, 'pr': 56, 'qn': 77}\n",
      "{'name': 'Pencil', 'Qn': 50, 'pr': 5, 'qn': 47}\n",
      "{'name': 'DrawingBok', 'Qn': 40, 'pr': 150}\n",
      "{'name': 'Soap', 'Qn': 70, 'pr': 75}\n",
      "{'name': 'WashingPowder', 'Qn': 47, 'pr': 100}\n",
      "{'name': 'Snacks', 'Qn': 700, 'pr': 20}\n",
      "{'name': 'NoteBook', 'Qn': 85, 'pr': 98}\n",
      "{'name': 'Handwash', 'Qn': 300, 'pr': 72}\n",
      "{'name': 'Sanitizer', 'Qn': 400, 'pr': 23}\n",
      "{'name': 'Stapler', 'Qn': 124, 'pr': 155}\n",
      "{'name': 'Eraser', 'Qn': 180, 'pr': 5}\n",
      "{'name': 'ChocolateCake', 'Qn': 300, 'pr': 120}\n",
      "{'name': 'Whitener', 'Qn': 55, 'pr': 100}\n",
      "{'name': 'ruler', 'Qn': 33, 'pr': 45}\n",
      "{'name': 'PaperClip', 'Qn': 34, 'pr': 120}\n",
      "{'name': 'Tape', 'Qn': 34, 'pr': 20}\n",
      "{'name': 'SchoolBage', 'Qn': 15, 'pr': 630}\n",
      "{'name': 'PencilSharpner', 'Qn': 84, 'pr': 10}\n",
      "{'name': 'HighlighterPen', 'Qn': 100, 'pr': 60}\n",
      "{'name': '', 'Qn': 34, 'pr': 230}\n",
      "{'name': 'Calculator', 'Qn': 30, 'pr': 990}\n",
      "{'name': 'Scissor', 'Qn': 20, 'pr': 50}\n",
      "{'name': 'Envelope', 'Qn': 24, 'pr': 30}\n",
      "{'name': 'CLipBoard', 'Qn': 12, 'pr': 178}\n",
      "{'name': 'Paperclips', 'Qn': 400, 'pr': 20}\n",
      "{'name': 'Diary', 'Qn': 24, 'pr': 200}\n",
      "{'name': 'Bin', 'Qn': 15, 'pr': 60}\n",
      "{'name': 'milk', 'pr': 23, 'qn': 25}\n",
      "********************************************\n"
     ]
    }
   ],
   "source": [
    "\n",
    "print(\"********************MENU********************\")\n",
    "for i in records.keys():\n",
    "    print(records[i])\n",
    "print(\"********************************************\")    "
   ]
  },
  {
   "cell_type": "code",
   "execution_count": null,
   "id": "a13ced70",
   "metadata": {},
   "outputs": [],
   "source": []
  },
  {
   "cell_type": "markdown",
   "id": "994dfcf8",
   "metadata": {},
   "source": [
    "# Purchase Product"
   ]
  },
  {
   "cell_type": "code",
   "execution_count": 6,
   "id": "250199e4",
   "metadata": {},
   "outputs": [
    {
     "name": "stdout",
     "output_type": "stream",
     "text": [
      "***********Purchase New Product************\n",
      "Enter the product_Id: 1008\n",
      "Enter the quantity: 3\n",
      "{'name': 'WashingPowder', 'Qn': 50, 'pr': 100}\n",
      "\n",
      "Product:  WashingPowder\n",
      "Price:  100\n",
      "*************Bill********************\n",
      "Billing Amount:  300\n",
      "***************************************\n"
     ]
    }
   ],
   "source": [
    "print(\"***********Purchase New Product************\")\n",
    "ui_prod= str(input(\"Enter the product_Id: \"))\n",
    "ui_quant = int(input(\"Enter the quantity: \"))\n",
    "print(records[ui_prod])\n",
    "print()\n",
    "print(\"Product: \", records[ui_prod]['name'])\n",
    "print(\"Price: \", records[ui_prod]['pr'])\n",
    "print(\"*************Bill********************\")\n",
    "a = (records[ui_prod]['pr'] * ui_quant)\n",
    "print(\"Billing Amount: \", a)\n",
    "print(\"***************************************\")\n",
    "records[ui_prod]['Qn'] = records[ui_prod]['Qn'] - ui_quant"
   ]
  },
  {
   "cell_type": "markdown",
   "id": "1799254d",
   "metadata": {},
   "source": [
    "# Update Inventory after purchase"
   ]
  },
  {
   "cell_type": "code",
   "execution_count": 10,
   "id": "99238825",
   "metadata": {},
   "outputs": [
    {
     "name": "stdout",
     "output_type": "stream",
     "text": [
      "Done\n"
     ]
    }
   ],
   "source": [
    "js = json.dumps(records)\n",
    "\n",
    "fd = open(\"records.json\",'w')\n",
    "fd.write(js)\n",
    "fd.close()\n",
    "print(\"Done\")\n"
   ]
  },
  {
   "cell_type": "markdown",
   "id": "a3262ed2",
   "metadata": {},
   "source": [
    "# Sales JSON "
   ]
  },
  {
   "cell_type": "code",
   "execution_count": 21,
   "id": "613930b6",
   "metadata": {},
   "outputs": [],
   "source": [
    "sales = {1 : {'prod' : ui_prod, 'Qn' : ui_quant, 'amount': records[ui_prod]['pr'] * ui_quant}}"
   ]
  },
  {
   "cell_type": "code",
   "execution_count": 22,
   "id": "f264b072",
   "metadata": {},
   "outputs": [
    {
     "name": "stdout",
     "output_type": "stream",
     "text": [
      "Done\n"
     ]
    }
   ],
   "source": [
    "sale = json.dumps(sales)\n",
    "print(\"Done\")"
   ]
  },
  {
   "cell_type": "code",
   "execution_count": 23,
   "id": "ddb767b3",
   "metadata": {},
   "outputs": [
    {
     "name": "stdout",
     "output_type": "stream",
     "text": [
      "Done\n"
     ]
    }
   ],
   "source": [
    "fd = open(\"sale.json\",'w')\n",
    "fd.write(sale)\n",
    "fd.close()\n",
    "print(\"Done\")"
   ]
  },
  {
   "cell_type": "code",
   "execution_count": null,
   "id": "e8e85997",
   "metadata": {},
   "outputs": [],
   "source": []
  },
  {
   "cell_type": "code",
   "execution_count": null,
   "id": "610fa5b9",
   "metadata": {},
   "outputs": [],
   "source": []
  },
  {
   "cell_type": "code",
   "execution_count": null,
   "id": "64d6be9a",
   "metadata": {},
   "outputs": [],
   "source": []
  }
 ],
 "metadata": {
  "kernelspec": {
   "display_name": "Python 3",
   "language": "python",
   "name": "python3"
  },
  "language_info": {
   "codemirror_mode": {
    "name": "ipython",
    "version": 3
   },
   "file_extension": ".py",
   "mimetype": "text/x-python",
   "name": "python",
   "nbconvert_exporter": "python",
   "pygments_lexer": "ipython3",
   "version": "3.8.8"
  }
 },
 "nbformat": 4,
 "nbformat_minor": 5
}
