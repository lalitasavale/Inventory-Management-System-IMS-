{
 "cells": [
  {
   "cell_type": "code",
   "execution_count": 19,
   "id": "2e556379",
   "metadata": {},
   "outputs": [],
   "source": [
    "records = {1001: {'name': 'Cake', 'Qn': 34, 'pr': 230},\n",
    "           1002: {'name': 'Chocolate', 'Qn': '400', 'pr': '15'}, \n",
    "           1003 : {'name': 'Pen', 'Qn': '60', 'pr': '20'} ,\n",
    "           1004: {'name': 'LongBook', 'Qn': '80', 'pr': '56'},\n",
    "           1005: {'name': 'Pencil', 'Qn': '50', 'pr': '5'},\n",
    "           1006: {'name': 'DrawingBok', 'Qn': '40', 'pr': '150'},\n",
    "           1007: {'name': 'Soap', 'Qn': '70', 'pr': '75'},\n",
    "           1008: {'name': 'WashingPowder', 'Qn': '50', 'pr': '100'},\n",
    "           1009: {'name': 'Snacks', 'Qn': '700', 'pr': '20'},\n",
    "           1010: {'name': 'NoteBook', 'Qn': '85', 'pr': '98'},\n",
    "           1011: {'name': 'Handwash', 'Qn': '300', 'pr': '72'},\n",
    "           1012: {'name': 'Sanitizer', 'Qn': '400', 'pr': '23'},\n",
    "           1013: {'name': 'Stapler', 'Qn': '124', 'pr': '155'},\n",
    "           1014: {'name': 'Eraser', 'Qn': '180', 'pr': '5'},\n",
    "           1015: {'name': 'ChocolateCake', 'Qn': '300', 'pr': '120'},\n",
    "           1016: {'name': 'Whitener', 'Qn': '55', 'pr': '100'},\n",
    "           1017: {'name': 'ruler', 'Qn': '33', 'pr': '45'},\n",
    "           1018: {'name': 'PaperClip', 'Qn': '34', 'pr': '120'},\n",
    "           1019: {'name': 'Tape', 'Qn': '34', 'pr': '20'},\n",
    "           1020: {'name': 'SchoolBage', 'Qn': '15', 'pr': '630'},\n",
    "           1021: {'name': 'PencilSharpner', 'Qn': '84', 'pr': '10'},\n",
    "           1022: {'name': 'HighlighterPen', 'Qn': '100', 'pr': '60'},\n",
    "           1023: {'name': 'ColorPapers', 'Qn': '34', 'pr': '230'},\n",
    "           1024: {'name': 'Calculator', 'Qn': 30, 'pr': '990'},\n",
    "           1025: {'name': 'Scissor', 'Qn': '20', 'pr': '50'},\n",
    "           1026: {'name': 'Envelope', 'Qn': '24', 'pr': '30'},\n",
    "           1027: {'name': 'CLipBoard', 'Qn': '12', 'pr': '178'},\n",
    "           1028: {'name': 'Paperclips', 'Qn': '400', 'pr': '20'},\n",
    "           1029: {'name': 'Diary', 'Qn': '24', 'pr': '200'},\n",
    "           1030: {'name': 'Bin', 'Qn': '15', 'pr': '60'}}"
   ]
  },
  {
   "cell_type": "code",
   "execution_count": 20,
   "id": "8428bd9d",
   "metadata": {},
   "outputs": [],
   "source": [
    "import json\n",
    "\n",
    "fd = open(\"records.json\",'r')\n",
    "r = fd.read()\n",
    "fd.close()\n",
    "\n",
    "records = json.loads(r)"
   ]
  },
  {
   "cell_type": "code",
   "execution_count": null,
   "id": "195982ef",
   "metadata": {},
   "outputs": [],
   "source": []
  },
  {
   "cell_type": "code",
   "execution_count": null,
   "id": "a13ced70",
   "metadata": {},
   "outputs": [],
   "source": []
  },
  {
   "cell_type": "code",
   "execution_count": null,
   "id": "a0e8a757",
   "metadata": {},
   "outputs": [],
   "source": []
  },
  {
   "cell_type": "code",
   "execution_count": 21,
   "id": "250199e4",
   "metadata": {},
   "outputs": [
    {
     "name": "stdout",
     "output_type": "stream",
     "text": [
      "Enter the product_Id: 1001\n",
      "Enter the quantity: 1\n",
      "{'name': 'Cake', 'Qn': '34', 'pr': '230'}\n",
      "Product:  Cake\n",
      "Price:  230\n",
      "Billing Amount:  230\n"
     ]
    },
    {
     "ename": "TypeError",
     "evalue": "unsupported operand type(s) for -: 'str' and 'int'",
     "output_type": "error",
     "traceback": [
      "\u001b[1;31m---------------------------------------------------------------------------\u001b[0m",
      "\u001b[1;31mTypeError\u001b[0m                                 Traceback (most recent call last)",
      "\u001b[1;32m<ipython-input-21-100c8110ebad>\u001b[0m in \u001b[0;36m<module>\u001b[1;34m\u001b[0m\n\u001b[0;32m      7\u001b[0m \u001b[0mprint\u001b[0m\u001b[1;33m(\u001b[0m\u001b[1;34m\"Billing Amount: \"\u001b[0m\u001b[1;33m,\u001b[0m \u001b[0mrecords\u001b[0m\u001b[1;33m[\u001b[0m\u001b[0mui_prod\u001b[0m\u001b[1;33m]\u001b[0m\u001b[1;33m[\u001b[0m\u001b[1;34m'pr'\u001b[0m\u001b[1;33m]\u001b[0m \u001b[1;33m*\u001b[0m \u001b[0mui_quant\u001b[0m\u001b[1;33m)\u001b[0m\u001b[1;33m\u001b[0m\u001b[1;33m\u001b[0m\u001b[0m\n\u001b[0;32m      8\u001b[0m \u001b[1;33m\u001b[0m\u001b[0m\n\u001b[1;32m----> 9\u001b[1;33m \u001b[0mrecords\u001b[0m\u001b[1;33m[\u001b[0m\u001b[0mui_prod\u001b[0m\u001b[1;33m]\u001b[0m\u001b[1;33m[\u001b[0m\u001b[1;34m'Qn'\u001b[0m\u001b[1;33m]\u001b[0m \u001b[1;33m=\u001b[0m \u001b[0mrecords\u001b[0m\u001b[1;33m[\u001b[0m\u001b[0mui_prod\u001b[0m\u001b[1;33m]\u001b[0m\u001b[1;33m[\u001b[0m\u001b[1;34m'Qn'\u001b[0m\u001b[1;33m]\u001b[0m \u001b[1;33m-\u001b[0m \u001b[0mui_quant\u001b[0m\u001b[1;33m\u001b[0m\u001b[1;33m\u001b[0m\u001b[0m\n\u001b[0m",
      "\u001b[1;31mTypeError\u001b[0m: unsupported operand type(s) for -: 'str' and 'int'"
     ]
    }
   ],
   "source": [
    "ui_prod= str(input(\"Enter the product_Id: \"))\n",
    "ui_quant = int(input(\"Enter the quantity: \"))\n",
    "print(records[ui_prod])\n",
    "\n",
    "print(\"Product: \", records[ui_prod]['name'])\n",
    "print(\"Price: \", records[ui_prod]['pr'])\n",
    "print(\"Billing Amount: \", records[ui_prod]['pr'] * ui_quant)\n",
    "\n",
    "records[ui_prod]['Qn'] = records[ui_prod]['Qn'] - ui_quant"
   ]
  },
  {
   "cell_type": "markdown",
   "id": "1799254d",
   "metadata": {},
   "source": [
    "# Update Inventory after purchase"
   ]
  },
  {
   "cell_type": "code",
   "execution_count": null,
   "id": "99238825",
   "metadata": {},
   "outputs": [],
   "source": [
    "js = json.dumps(records)\n",
    "\n",
    "fd = open(\"records.json\",'w')\n",
    "fd.write(js)\n",
    "fd.close()\n"
   ]
  },
  {
   "cell_type": "markdown",
   "id": "a3262ed2",
   "metadata": {},
   "source": [
    "# Sales JSON "
   ]
  },
  {
   "cell_type": "code",
   "execution_count": null,
   "id": "8c143a72",
   "metadata": {},
   "outputs": [],
   "source": [
    "{'prod' : ui_prod['name'], 'Qn' : ui_quant, 'amount': records[ui_prod]['pr'] * ui_quant }"
   ]
  },
  {
   "cell_type": "code",
   "execution_count": 10,
   "id": "613930b6",
   "metadata": {},
   "outputs": [],
   "source": [
    "\n",
    "\n",
    "sales = {1 : {'prod' : ui_prod, 'Qn' : ui_quant, 'amount': records[ui_prod]['pr'] * ui_quant}}"
   ]
  },
  {
   "cell_type": "code",
   "execution_count": null,
   "id": "f264b072",
   "metadata": {},
   "outputs": [],
   "source": [
    "sale = json.dumps(sales)"
   ]
  },
  {
   "cell_type": "code",
   "execution_count": null,
   "id": "ddb767b3",
   "metadata": {},
   "outputs": [],
   "source": [
    "fd = open(\"sale.json\",'w')\n",
    "fd.write(sale)\n",
    "fd.close()"
   ]
  },
  {
   "cell_type": "code",
   "execution_count": null,
   "id": "e8e85997",
   "metadata": {},
   "outputs": [],
   "source": []
  }
 ],
 "metadata": {
  "kernelspec": {
   "display_name": "Python 3",
   "language": "python",
   "name": "python3"
  }
 },
 "nbformat": 4,
 "nbformat_minor": 5
}
