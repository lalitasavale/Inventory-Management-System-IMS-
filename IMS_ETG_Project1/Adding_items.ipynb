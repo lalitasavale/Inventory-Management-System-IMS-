{
 "cells": [
  {
   "cell_type": "code",
   "execution_count": 1,
   "id": "09e48793",
   "metadata": {},
   "outputs": [],
   "source": [
    "import json\n",
    "fd = open(\"records.json\",'r')\n",
    "r = fd.read()\n",
    "fd.close()\n",
    "\n",
    "records = json.loads(r)"
   ]
  },
  {
   "cell_type": "code",
   "execution_count": 2,
   "id": "489fb157",
   "metadata": {},
   "outputs": [
    {
     "data": {
      "text/plain": [
       "{'1001': {'name': 'Cake', 'Qn': 34, 'pr': 230},\n",
       " '1002': {'name': 'Chocolate', 'Qn': 400, 'pr': 15, 'qn': 398},\n",
       " '1003': {'name': 'Pen', 'Qn': 60, 'pr': 20},\n",
       " '1004': {'name': 'LongBook', 'Qn': 80, 'pr': 56, 'qn': 77},\n",
       " '1005': {'name': 'Pencil', 'Qn': 50, 'pr': 5},\n",
       " '1006': {'name': 'DrawingBok', 'Qn': 40, 'pr': 150},\n",
       " '1007': {'name': 'Soap', 'Qn': 70, 'pr': 75},\n",
       " '1008': {'name': 'WashingPowder', 'Qn': 50, 'pr': 100},\n",
       " '1009': {'name': 'Snacks', 'Qn': 700, 'pr': 20},\n",
       " '1010': {'name': 'NoteBook', 'Qn': 85, 'pr': 98},\n",
       " '1011': {'name': 'Handwash', 'Qn': 300, 'pr': 72},\n",
       " '1012': {'name': 'Sanitizer', 'Qn': 400, 'pr': 23},\n",
       " '1013': {'name': 'Stapler', 'Qn': 124, 'pr': 155},\n",
       " '1014': {'name': 'Eraser', 'Qn': 180, 'pr': 5},\n",
       " '1015': {'name': 'ChocolateCake', 'Qn': 300, 'pr': 120},\n",
       " '1016': {'name': 'Whitener', 'Qn': 55, 'pr': 100},\n",
       " '1017': {'name': 'ruler', 'Qn': 33, 'pr': 45},\n",
       " '1018': {'name': 'PaperClip', 'Qn': 34, 'pr': 120},\n",
       " '1019': {'name': 'Tape', 'Qn': 34, 'pr': 20},\n",
       " '1020': {'name': 'SchoolBage', 'Qn': 15, 'pr': 630},\n",
       " '1021': {'name': 'PencilSharpner', 'Qn': 84, 'pr': 10},\n",
       " '1022': {'name': 'HighlighterPen', 'Qn': 100, 'pr': 60},\n",
       " '1023': {'name': '', 'Qn': 34, 'pr': 230},\n",
       " '1024': {'name': 'Calculator', 'Qn': 30, 'pr': 990},\n",
       " '1025': {'name': 'Scissor', 'Qn': 20, 'pr': 50},\n",
       " '1026': {'name': 'Envelope', 'Qn': 24, 'pr': 30},\n",
       " '1027': {'name': 'CLipBoard', 'Qn': 12, 'pr': 178},\n",
       " '1028': {'name': 'Paperclips', 'Qn': 400, 'pr': 20},\n",
       " '1029': {'name': 'Diary', 'Qn': 24, 'pr': 200},\n",
       " '1030': {'name': 'Bin', 'Qn': 15, 'pr': 60},\n",
       " '1031': {'name': 'milk', 'pr': 23, 'qn': 25}}"
      ]
     },
     "execution_count": 2,
     "metadata": {},
     "output_type": "execute_result"
    }
   ],
   "source": [
    "records"
   ]
  },
  {
   "cell_type": "code",
   "execution_count": null,
   "id": "b17b4b36",
   "metadata": {},
   "outputs": [],
   "source": []
  },
  {
   "cell_type": "markdown",
   "id": "9c64bbdc",
   "metadata": {},
   "source": [
    "# Adding Item into Inventory¶"
   ]
  },
  {
   "cell_type": "code",
   "execution_count": 7,
   "id": "2d5ac273",
   "metadata": {},
   "outputs": [
    {
     "name": "stdout",
     "output_type": "stream",
     "text": [
      "Adding New Item into Inventory\n",
      "********************************************\n",
      "Enter product id:1040\n",
      "Enter name:mause\n",
      "Enter price:500\n",
      "Enter quantity:34\n",
      "********************************************\n",
      "Done!\n",
      "********************************************\n"
     ]
    }
   ],
   "source": [
    "print(\"Adding New Item into Inventory\")\n",
    "print(\"********************************************\")\n",
    "prod_id = str(input(\"Enter product id:\"))\n",
    "name = str(input(\"Enter name:\"))\n",
    "pr = int(input(\"Enter price:\"))\n",
    "qn = int(input(\"Enter quantity:\"))\n",
    "\n",
    "records[prod_id] = {'name': name, 'pr': pr, 'Qn': qn}\n",
    "\n",
    "js = json.dumps(records)\n",
    "\n",
    "fd = open(\"records.json\",'w')\n",
    "fd.write(js)\n",
    "fd.close()\n",
    "print(\"********************************************\")\n",
    "print(\"Done!\")\n",
    "print(\"********************************************\")"
   ]
  },
  {
   "cell_type": "code",
   "execution_count": 8,
   "id": "e07dc779",
   "metadata": {
    "scrolled": true
   },
   "outputs": [
    {
     "data": {
      "text/plain": [
       "{'1002': {'name': 'Chocolate', 'Qn': 400, 'pr': 15, 'qn': 398},\n",
       " '1003': {'name': 'Pen', 'Qn': 60, 'pr': 20},\n",
       " '1004': {'name': 'LongBook', 'Qn': 80, 'pr': 56, 'qn': 77},\n",
       " '1005': {'name': 'Pencil', 'Qn': 50, 'pr': 5},\n",
       " '1006': {'name': 'DrawingBok', 'Qn': 40, 'pr': 150},\n",
       " '1007': {'name': 'Soap', 'Qn': 70, 'pr': 75},\n",
       " '1008': {'name': 'WashingPowder', 'Qn': 50, 'pr': 100},\n",
       " '1009': {'name': 'Snacks', 'Qn': 700, 'pr': 20},\n",
       " '1010': {'name': 'NoteBook', 'Qn': 85, 'pr': 98},\n",
       " '1011': {'name': 'Handwash', 'Qn': 300, 'pr': 72},\n",
       " '1012': {'name': 'Sanitizer', 'Qn': 400, 'pr': 23},\n",
       " '1013': {'name': 'Stapler', 'Qn': 124, 'pr': 155},\n",
       " '1014': {'name': 'Eraser', 'Qn': 180, 'pr': 5},\n",
       " '1015': {'name': 'ChocolateCake', 'Qn': 300, 'pr': 120},\n",
       " '1016': {'name': 'Whitener', 'Qn': 55, 'pr': 100},\n",
       " '1017': {'name': 'ruler', 'Qn': 33, 'pr': 45},\n",
       " '1018': {'name': 'PaperClip', 'Qn': 34, 'pr': 120},\n",
       " '1019': {'name': 'Tape', 'Qn': 34, 'pr': 20},\n",
       " '1020': {'name': 'SchoolBage', 'Qn': 15, 'pr': 630},\n",
       " '1021': {'name': 'PencilSharpner', 'Qn': 84, 'pr': 10},\n",
       " '1022': {'name': 'HighlighterPen', 'Qn': 100, 'pr': 60},\n",
       " '1023': {'name': '', 'Qn': 34, 'pr': 230},\n",
       " '1024': {'name': 'Calculator', 'Qn': 30, 'pr': 990},\n",
       " '1025': {'name': 'Scissor', 'Qn': 20, 'pr': 50},\n",
       " '1026': {'name': 'Envelope', 'Qn': 24, 'pr': 30},\n",
       " '1027': {'name': 'CLipBoard', 'Qn': 12, 'pr': 178},\n",
       " '1028': {'name': 'Paperclips', 'Qn': 400, 'pr': 20},\n",
       " '1029': {'name': 'Diary', 'Qn': 24, 'pr': 200},\n",
       " '1030': {'name': 'Bin', 'Qn': 15, 'pr': 60},\n",
       " '1031': {'name': 'milk', 'pr': 23, 'qn': 25},\n",
       " '1055': {'name': 'Snacks', 'pr': 23, 'Qn': 3},\n",
       " '1040': {'name': 'mause', 'pr': 500, 'Qn': 34}}"
      ]
     },
     "execution_count": 8,
     "metadata": {},
     "output_type": "execute_result"
    }
   ],
   "source": [
    "records"
   ]
  },
  {
   "cell_type": "markdown",
   "id": "583e926b",
   "metadata": {},
   "source": [
    "# Deleting product"
   ]
  },
  {
   "cell_type": "code",
   "execution_count": 5,
   "id": "f9c234dd",
   "metadata": {},
   "outputs": [],
   "source": [
    "del records['1001']"
   ]
  },
  {
   "cell_type": "code",
   "execution_count": 6,
   "id": "25c7a7a1",
   "metadata": {},
   "outputs": [
    {
     "data": {
      "text/plain": [
       "{'1002': {'name': 'Chocolate', 'Qn': 400, 'pr': 15, 'qn': 398},\n",
       " '1003': {'name': 'Pen', 'Qn': 60, 'pr': 20},\n",
       " '1004': {'name': 'LongBook', 'Qn': 80, 'pr': 56, 'qn': 77},\n",
       " '1005': {'name': 'Pencil', 'Qn': 50, 'pr': 5},\n",
       " '1006': {'name': 'DrawingBok', 'Qn': 40, 'pr': 150},\n",
       " '1007': {'name': 'Soap', 'Qn': 70, 'pr': 75},\n",
       " '1008': {'name': 'WashingPowder', 'Qn': 50, 'pr': 100},\n",
       " '1009': {'name': 'Snacks', 'Qn': 700, 'pr': 20},\n",
       " '1010': {'name': 'NoteBook', 'Qn': 85, 'pr': 98},\n",
       " '1011': {'name': 'Handwash', 'Qn': 300, 'pr': 72},\n",
       " '1012': {'name': 'Sanitizer', 'Qn': 400, 'pr': 23},\n",
       " '1013': {'name': 'Stapler', 'Qn': 124, 'pr': 155},\n",
       " '1014': {'name': 'Eraser', 'Qn': 180, 'pr': 5},\n",
       " '1015': {'name': 'ChocolateCake', 'Qn': 300, 'pr': 120},\n",
       " '1016': {'name': 'Whitener', 'Qn': 55, 'pr': 100},\n",
       " '1017': {'name': 'ruler', 'Qn': 33, 'pr': 45},\n",
       " '1018': {'name': 'PaperClip', 'Qn': 34, 'pr': 120},\n",
       " '1019': {'name': 'Tape', 'Qn': 34, 'pr': 20},\n",
       " '1020': {'name': 'SchoolBage', 'Qn': 15, 'pr': 630},\n",
       " '1021': {'name': 'PencilSharpner', 'Qn': 84, 'pr': 10},\n",
       " '1022': {'name': 'HighlighterPen', 'Qn': 100, 'pr': 60},\n",
       " '1023': {'name': '', 'Qn': 34, 'pr': 230},\n",
       " '1024': {'name': 'Calculator', 'Qn': 30, 'pr': 990},\n",
       " '1025': {'name': 'Scissor', 'Qn': 20, 'pr': 50},\n",
       " '1026': {'name': 'Envelope', 'Qn': 24, 'pr': 30},\n",
       " '1027': {'name': 'CLipBoard', 'Qn': 12, 'pr': 178},\n",
       " '1028': {'name': 'Paperclips', 'Qn': 400, 'pr': 20},\n",
       " '1029': {'name': 'Diary', 'Qn': 24, 'pr': 200},\n",
       " '1030': {'name': 'Bin', 'Qn': 15, 'pr': 60},\n",
       " '1031': {'name': 'milk', 'pr': 23, 'qn': 25},\n",
       " '1055': {'name': 'Snacks', 'pr': 23, 'Qn': 3}}"
      ]
     },
     "execution_count": 6,
     "metadata": {},
     "output_type": "execute_result"
    }
   ],
   "source": [
    "records"
   ]
  },
  {
   "cell_type": "markdown",
   "id": "b98a3e1a",
   "metadata": {},
   "source": []
  }
 ],
 "metadata": {
  "kernelspec": {
   "display_name": "Python 3",
   "language": "python",
   "name": "python3"
  },
  "language_info": {
   "codemirror_mode": {
    "name": "ipython",
    "version": 3
   },
   "file_extension": ".py",
   "mimetype": "text/x-python",
   "name": "python",
   "nbconvert_exporter": "python",
   "pygments_lexer": "ipython3",
   "version": "3.8.8"
  }
 },
 "nbformat": 4,
 "nbformat_minor": 5
}
